{
 "cells": [
  {
   "cell_type": "markdown",
   "metadata": {},
   "source": [
    "# Optimizing Vision Transformer Model for Deployment\n",
    "Vision Transformer는 자연어 분야에서 발생한 어텐션 기반 모델을 영상처리 분야에 적용한 모델이다. 그 중에서도 [DeiT](https://ai.facebook.com/blog/data-efficient-image-transformers-a-promising-new-technique-for-image-classification/)는 페이스북 이미지를 분류할 용도로 ImageNet 데이터셋으로 학습된 모델이다. 이 모델에 양자화와 최적화를 적용하여, 데이터와 자원이 제한되는 환경을 고려해보자."
   ]
  }
 ],
 "metadata": {
  "language_info": {
   "name": "python"
  },
  "orig_nbformat": 4
 },
 "nbformat": 4,
 "nbformat_minor": 2
}
