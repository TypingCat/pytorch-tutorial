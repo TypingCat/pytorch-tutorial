{
 "cells": [
  {
   "cell_type": "markdown",
   "metadata": {},
   "source": [
    "# Spatial Transformer Networks Tutorial\n",
    "[Spatial Transformer Networks](https://arxiv.org/abs/1506.02025) 기법을 배워보자. 네트워크를 증강할 수 있는 Visual Attention 매커니즘이다."
   ]
  }
 ],
 "metadata": {
  "language_info": {
   "name": "python"
  },
  "orig_nbformat": 4
 },
 "nbformat": 4,
 "nbformat_minor": 2
}
