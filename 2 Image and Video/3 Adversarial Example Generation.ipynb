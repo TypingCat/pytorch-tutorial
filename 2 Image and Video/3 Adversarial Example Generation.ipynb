{
 "cells": [
  {
   "cell_type": "markdown",
   "metadata": {},
   "source": [
    "# Adversarial Example Generation\n",
    "모델의 보안과 강인함은 성능 못지않게 중요하다. 이미지에 육안으로는 분간하기 어려운 작은 변화를 추가하면 성능이 크게 달라질 수 있다. 일반적인 공격방법인 Fast Gradient Sign Attack(FGSM)을 통해 MNIST Classifier를 속여보면서 통찰을 얻길 바란다."
   ]
  }
 ],
 "metadata": {
  "language_info": {
   "name": "python"
  },
  "orig_nbformat": 4
 },
 "nbformat": 4,
 "nbformat_minor": 2
}
