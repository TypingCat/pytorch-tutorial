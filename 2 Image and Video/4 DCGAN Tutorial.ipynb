{
 "cells": [
  {
   "cell_type": "markdown",
   "metadata": {},
   "source": [
    "# DCGAN Tutorial\n",
    "실제 유명인들의 사진들로 Generative Adversarial Network(GAN)을 학습시키고, 새로운 유명인의 사진을 만들어보자."
   ]
  }
 ],
 "metadata": {
  "language_info": {
   "name": "python"
  },
  "orig_nbformat": 4
 },
 "nbformat": 4,
 "nbformat_minor": 2
}
