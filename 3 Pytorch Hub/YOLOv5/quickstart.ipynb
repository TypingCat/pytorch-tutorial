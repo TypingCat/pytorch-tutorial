{
 "cells": [
  {
   "cell_type": "markdown",
   "metadata": {},
   "source": [
    "# YOLO v5\n",
    "## Before you start\n",
    "- Python >= 3.8\n",
    "- Pytorch >= 1.7\n",
    "- `pip install -qr https://raw.githubusercontent.com/ultralytics/yolov5/master/requirements.txt`\n",
    "\n",
    "## Model description\n",
    "YOLOv5는 COCO 데이터셋으로 훈련한 객체탐색 모델군이다. 크기에 따른 5개 모델을 포함한다. Test time augmentation, model ensembling, hyperparameter evolution과 같은 기능이 포함되어 있다.\n",
    "\n",
    "## Load from Pytorch hub\n",
    "본 예제는 YOLOv5s 모델을 불러와 이미지를 입력한다.\n",
    "\n",
    "- 입력: URL, Filename, PIL, OpenCV, Numpy, Pytorch\n",
    "- 출력: Torch, pandas, json"
   ]
  },
  {
   "cell_type": "code",
   "execution_count": 2,
   "metadata": {},
   "outputs": [
    {
     "name": "stderr",
     "output_type": "stream",
     "text": [
      "Using cache found in C:\\Users\\KIRO/.cache\\torch\\hub\\ultralytics_yolov5_master\n",
      "YOLOv5  2022-6-9 Python-3.9.13 torch-1.11.0+cu113 CUDA:0 (NVIDIA GeForce RTX 2070, 8192MiB)\n",
      "\n",
      "Fusing layers... \n",
      "YOLOv5s summary: 213 layers, 7225885 parameters, 0 gradients\n",
      "Adding AutoShape... \n"
     ]
    },
    {
     "name": "stdout",
     "output_type": "stream",
     "text": [
      "image 1/1: 720x1280 2 persons, 2 ties\n",
      "Speed: 362.5ms pre-process, 11.0ms inference, 2.0ms NMS per image at shape (1, 3, 384, 640)\n"
     ]
    },
    {
     "data": {
      "text/html": [
       "<div>\n",
       "<style scoped>\n",
       "    .dataframe tbody tr th:only-of-type {\n",
       "        vertical-align: middle;\n",
       "    }\n",
       "\n",
       "    .dataframe tbody tr th {\n",
       "        vertical-align: top;\n",
       "    }\n",
       "\n",
       "    .dataframe thead th {\n",
       "        text-align: right;\n",
       "    }\n",
       "</style>\n",
       "<table border=\"1\" class=\"dataframe\">\n",
       "  <thead>\n",
       "    <tr style=\"text-align: right;\">\n",
       "      <th></th>\n",
       "      <th>xmin</th>\n",
       "      <th>ymin</th>\n",
       "      <th>xmax</th>\n",
       "      <th>ymax</th>\n",
       "      <th>confidence</th>\n",
       "      <th>class</th>\n",
       "      <th>name</th>\n",
       "    </tr>\n",
       "  </thead>\n",
       "  <tbody>\n",
       "    <tr>\n",
       "      <th>0</th>\n",
       "      <td>743.290527</td>\n",
       "      <td>48.343781</td>\n",
       "      <td>1141.756470</td>\n",
       "      <td>720.000000</td>\n",
       "      <td>0.879861</td>\n",
       "      <td>0</td>\n",
       "      <td>person</td>\n",
       "    </tr>\n",
       "    <tr>\n",
       "      <th>1</th>\n",
       "      <td>441.989624</td>\n",
       "      <td>437.336670</td>\n",
       "      <td>496.585083</td>\n",
       "      <td>710.036255</td>\n",
       "      <td>0.675119</td>\n",
       "      <td>27</td>\n",
       "      <td>tie</td>\n",
       "    </tr>\n",
       "    <tr>\n",
       "      <th>2</th>\n",
       "      <td>123.050964</td>\n",
       "      <td>193.238007</td>\n",
       "      <td>714.690552</td>\n",
       "      <td>719.771240</td>\n",
       "      <td>0.666694</td>\n",
       "      <td>0</td>\n",
       "      <td>person</td>\n",
       "    </tr>\n",
       "    <tr>\n",
       "      <th>3</th>\n",
       "      <td>978.989807</td>\n",
       "      <td>313.579468</td>\n",
       "      <td>1025.302856</td>\n",
       "      <td>415.526184</td>\n",
       "      <td>0.261517</td>\n",
       "      <td>27</td>\n",
       "      <td>tie</td>\n",
       "    </tr>\n",
       "  </tbody>\n",
       "</table>\n",
       "</div>"
      ],
      "text/plain": [
       "         xmin        ymin         xmax        ymax  confidence  class    name\n",
       "0  743.290527   48.343781  1141.756470  720.000000    0.879861      0  person\n",
       "1  441.989624  437.336670   496.585083  710.036255    0.675119     27     tie\n",
       "2  123.050964  193.238007   714.690552  719.771240    0.666694      0  person\n",
       "3  978.989807  313.579468  1025.302856  415.526184    0.261517     27     tie"
      ]
     },
     "execution_count": 2,
     "metadata": {},
     "output_type": "execute_result"
    }
   ],
   "source": [
    "import torch\n",
    "\n",
    "# Model\n",
    "model = torch.hub.load('ultralytics/yolov5', 'yolov5s', pretrained=True)\n",
    "\n",
    "# Images\n",
    "imgs = ['https://ultralytics.com/images/zidane.jpg']  # batch of images\n",
    "\n",
    "# Inference\n",
    "results = model(imgs)\n",
    "\n",
    "# Results\n",
    "results.print()\n",
    "results.save()  # or .show()\n",
    "\n",
    "results.xyxy[0]  # img1 predictions (tensor)\n",
    "results.pandas().xyxy[0]  # img1 predictions (pandas)"
   ]
  }
 ],
 "metadata": {
  "kernelspec": {
   "display_name": "Python 3.9.13 64-bit (windows store)",
   "language": "python",
   "name": "python3"
  },
  "language_info": {
   "codemirror_mode": {
    "name": "ipython",
    "version": 3
   },
   "file_extension": ".py",
   "mimetype": "text/x-python",
   "name": "python",
   "nbconvert_exporter": "python",
   "pygments_lexer": "ipython3",
   "version": "3.9.13"
  },
  "orig_nbformat": 4,
  "vscode": {
   "interpreter": {
    "hash": "ced337ad16e9e75bb4db261a2e74f6c70cc5024426e1ff58aef002bfd1fff34e"
   }
  }
 },
 "nbformat": 4,
 "nbformat_minor": 2
}
