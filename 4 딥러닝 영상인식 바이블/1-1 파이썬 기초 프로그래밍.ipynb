{
 "cells": [
  {
   "cell_type": "markdown",
   "metadata": {},
   "source": [
    "# 파이썬 기초 프로그래밍\n",
    "수업환경: Python 3.6.9, Colab"
   ]
  }
 ],
 "metadata": {
  "kernelspec": {
   "display_name": "Python 3.9.5 ('.venv': venv)",
   "language": "python",
   "name": "python3"
  },
  "language_info": {
   "name": "python",
   "version": "3.9.5"
  },
  "orig_nbformat": 4,
  "vscode": {
   "interpreter": {
    "hash": "e37185402f5e3edbf2c0038c9fbcaa972af26fa855bd896f94f7928e4d6121bc"
   }
  }
 },
 "nbformat": 4,
 "nbformat_minor": 2
}
