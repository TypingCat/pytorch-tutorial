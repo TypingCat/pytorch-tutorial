{
 "cells": [
  {
   "cell_type": "markdown",
   "metadata": {},
   "source": [
    "# 판다스를 이용하여 데이터 조작하기\n",
    "한국도로공사 제공 데이터셋: [영업소간 통행시간](http://data.ex.co.kr/portal/fdwn/view?type=TCS&num=11&requestfrom=dataset)"
   ]
  }
 ],
 "metadata": {
  "kernelspec": {
   "display_name": "Python 3.9.5 ('.venv': venv)",
   "language": "python",
   "name": "python3"
  },
  "language_info": {
   "name": "python",
   "version": "3.9.5"
  },
  "orig_nbformat": 4,
  "vscode": {
   "interpreter": {
    "hash": "e37185402f5e3edbf2c0038c9fbcaa972af26fa855bd896f94f7928e4d6121bc"
   }
  }
 },
 "nbformat": 4,
 "nbformat_minor": 2
}
