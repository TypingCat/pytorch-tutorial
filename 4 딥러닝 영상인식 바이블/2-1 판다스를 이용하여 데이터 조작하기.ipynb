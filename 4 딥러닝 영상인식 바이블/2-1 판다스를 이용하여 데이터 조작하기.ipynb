{
 "cells": [
  {
   "cell_type": "markdown",
   "metadata": {},
   "source": [
    "# 판다스를 이용하여 데이터 조작하기\n",
    "## 데이터 불러오기\n",
    "한국도로공사 제공 데이터셋: [영업소간 통행시간](http://data.ex.co.kr/portal/fdwn/view?type=TCS&num=11&requestfrom=dataset)"
   ]
  },
  {
   "cell_type": "code",
   "execution_count": 1,
   "metadata": {},
   "outputs": [],
   "source": [
    "import pandas as pd\n",
    "file = './data/korea expressway corporation/TCS_11_03_02_339640.csv'\n",
    "data = pd.read_csv(file, sep=',', encoding='euc-kr')"
   ]
  },
  {
   "cell_type": "code",
   "execution_count": 3,
   "metadata": {},
   "outputs": [
    {
     "data": {
      "text/html": [
       "<div>\n",
       "<style scoped>\n",
       "    .dataframe tbody tr th:only-of-type {\n",
       "        vertical-align: middle;\n",
       "    }\n",
       "\n",
       "    .dataframe tbody tr th {\n",
       "        vertical-align: top;\n",
       "    }\n",
       "\n",
       "    .dataframe thead th {\n",
       "        text-align: right;\n",
       "    }\n",
       "</style>\n",
       "<table border=\"1\" class=\"dataframe\">\n",
       "  <thead>\n",
       "    <tr style=\"text-align: right;\">\n",
       "      <th></th>\n",
       "      <th>집계일자</th>\n",
       "      <th>집계시</th>\n",
       "      <th>출발영업소코드</th>\n",
       "      <th>도착영업소코드</th>\n",
       "      <th>TCS차종구분코드</th>\n",
       "      <th>통행시간</th>\n",
       "      <th>Unnamed: 6</th>\n",
       "    </tr>\n",
       "  </thead>\n",
       "  <tbody>\n",
       "    <tr>\n",
       "      <th>24767713</th>\n",
       "      <td>20210131</td>\n",
       "      <td>10</td>\n",
       "      <td>506</td>\n",
       "      <td>602</td>\n",
       "      <td>4</td>\n",
       "      <td>25473</td>\n",
       "      <td>NaN</td>\n",
       "    </tr>\n",
       "    <tr>\n",
       "      <th>24767714</th>\n",
       "      <td>20210131</td>\n",
       "      <td>14</td>\n",
       "      <td>172</td>\n",
       "      <td>215</td>\n",
       "      <td>3</td>\n",
       "      <td>1385</td>\n",
       "      <td>NaN</td>\n",
       "    </tr>\n",
       "    <tr>\n",
       "      <th>24767715</th>\n",
       "      <td>20210131</td>\n",
       "      <td>5</td>\n",
       "      <td>269</td>\n",
       "      <td>556</td>\n",
       "      <td>1</td>\n",
       "      <td>3115</td>\n",
       "      <td>NaN</td>\n",
       "    </tr>\n",
       "    <tr>\n",
       "      <th>24767716</th>\n",
       "      <td>20210131</td>\n",
       "      <td>5</td>\n",
       "      <td>500</td>\n",
       "      <td>101</td>\n",
       "      <td>1</td>\n",
       "      <td>2033</td>\n",
       "      <td>NaN</td>\n",
       "    </tr>\n",
       "    <tr>\n",
       "      <th>24767717</th>\n",
       "      <td>20210131</td>\n",
       "      <td>2</td>\n",
       "      <td>624</td>\n",
       "      <td>252</td>\n",
       "      <td>1</td>\n",
       "      <td>1896</td>\n",
       "      <td>NaN</td>\n",
       "    </tr>\n",
       "  </tbody>\n",
       "</table>\n",
       "</div>"
      ],
      "text/plain": [
       "              집계일자  집계시  출발영업소코드  도착영업소코드  TCS차종구분코드   통행시간  Unnamed: 6\n",
       "24767713  20210131   10      506      602          4  25473         NaN\n",
       "24767714  20210131   14      172      215          3   1385         NaN\n",
       "24767715  20210131    5      269      556          1   3115         NaN\n",
       "24767716  20210131    5      500      101          1   2033         NaN\n",
       "24767717  20210131    2      624      252          1   1896         NaN"
      ]
     },
     "execution_count": 3,
     "metadata": {},
     "output_type": "execute_result"
    }
   ],
   "source": [
    "data.tail()"
   ]
  },
  {
   "cell_type": "code",
   "execution_count": 4,
   "metadata": {},
   "outputs": [
    {
     "name": "stdout",
     "output_type": "stream",
     "text": [
      "<class 'pandas.core.frame.DataFrame'>\n",
      "RangeIndex: 24767718 entries, 0 to 24767717\n",
      "Data columns (total 7 columns):\n",
      " #   Column      Dtype  \n",
      "---  ------      -----  \n",
      " 0   집계일자        int64  \n",
      " 1   집계시         int64  \n",
      " 2   출발영업소코드     int64  \n",
      " 3   도착영업소코드     int64  \n",
      " 4   TCS차종구분코드   int64  \n",
      " 5   통행시간        int64  \n",
      " 6   Unnamed: 6  float64\n",
      "dtypes: float64(1), int64(6)\n",
      "memory usage: 1.3 GB\n"
     ]
    }
   ],
   "source": [
    "data.info()"
   ]
  },
  {
   "cell_type": "markdown",
   "metadata": {},
   "source": [
    "## 데이터 정제\n",
    "모든 값이 null인 `Unnamed: 6`를 제거하자."
   ]
  },
  {
   "cell_type": "code",
   "execution_count": 5,
   "metadata": {},
   "outputs": [
    {
     "data": {
      "text/plain": [
       "집계일자                 0\n",
       "집계시                  0\n",
       "출발영업소코드              0\n",
       "도착영업소코드              0\n",
       "TCS차종구분코드            0\n",
       "통행시간                 0\n",
       "Unnamed: 6    24767718\n",
       "dtype: int64"
      ]
     },
     "execution_count": 5,
     "metadata": {},
     "output_type": "execute_result"
    }
   ],
   "source": [
    "data.isnull().sum(axis=0)"
   ]
  },
  {
   "cell_type": "code",
   "execution_count": 6,
   "metadata": {},
   "outputs": [
    {
     "data": {
      "text/html": [
       "<div>\n",
       "<style scoped>\n",
       "    .dataframe tbody tr th:only-of-type {\n",
       "        vertical-align: middle;\n",
       "    }\n",
       "\n",
       "    .dataframe tbody tr th {\n",
       "        vertical-align: top;\n",
       "    }\n",
       "\n",
       "    .dataframe thead th {\n",
       "        text-align: right;\n",
       "    }\n",
       "</style>\n",
       "<table border=\"1\" class=\"dataframe\">\n",
       "  <thead>\n",
       "    <tr style=\"text-align: right;\">\n",
       "      <th></th>\n",
       "      <th>집계일자</th>\n",
       "      <th>집계시</th>\n",
       "      <th>출발영업소코드</th>\n",
       "      <th>도착영업소코드</th>\n",
       "      <th>TCS차종구분코드</th>\n",
       "      <th>통행시간</th>\n",
       "    </tr>\n",
       "  </thead>\n",
       "  <tbody>\n",
       "    <tr>\n",
       "      <th>0</th>\n",
       "      <td>20210101</td>\n",
       "      <td>18</td>\n",
       "      <td>0</td>\n",
       "      <td>101</td>\n",
       "      <td>1</td>\n",
       "      <td>-1</td>\n",
       "    </tr>\n",
       "    <tr>\n",
       "      <th>1</th>\n",
       "      <td>20210101</td>\n",
       "      <td>18</td>\n",
       "      <td>0</td>\n",
       "      <td>101</td>\n",
       "      <td>3</td>\n",
       "      <td>-1</td>\n",
       "    </tr>\n",
       "    <tr>\n",
       "      <th>2</th>\n",
       "      <td>20210101</td>\n",
       "      <td>18</td>\n",
       "      <td>0</td>\n",
       "      <td>101</td>\n",
       "      <td>4</td>\n",
       "      <td>-1</td>\n",
       "    </tr>\n",
       "    <tr>\n",
       "      <th>3</th>\n",
       "      <td>20210101</td>\n",
       "      <td>9</td>\n",
       "      <td>0</td>\n",
       "      <td>101</td>\n",
       "      <td>3</td>\n",
       "      <td>-1</td>\n",
       "    </tr>\n",
       "    <tr>\n",
       "      <th>4</th>\n",
       "      <td>20210101</td>\n",
       "      <td>9</td>\n",
       "      <td>0</td>\n",
       "      <td>101</td>\n",
       "      <td>2</td>\n",
       "      <td>-1</td>\n",
       "    </tr>\n",
       "  </tbody>\n",
       "</table>\n",
       "</div>"
      ],
      "text/plain": [
       "       집계일자  집계시  출발영업소코드  도착영업소코드  TCS차종구분코드  통행시간\n",
       "0  20210101   18        0      101          1    -1\n",
       "1  20210101   18        0      101          3    -1\n",
       "2  20210101   18        0      101          4    -1\n",
       "3  20210101    9        0      101          3    -1\n",
       "4  20210101    9        0      101          2    -1"
      ]
     },
     "execution_count": 6,
     "metadata": {},
     "output_type": "execute_result"
    }
   ],
   "source": [
    "data_clean = data.drop(['Unnamed: 6'], axis='columns')\n",
    "data_clean.head()"
   ]
  },
  {
   "cell_type": "markdown",
   "metadata": {},
   "source": [
    "통행시간이 0보다 작은 데이터를 제거하자."
   ]
  },
  {
   "cell_type": "code",
   "execution_count": 7,
   "metadata": {},
   "outputs": [
    {
     "data": {
      "text/plain": [
       "array([False,  True])"
      ]
     },
     "execution_count": 7,
     "metadata": {},
     "output_type": "execute_result"
    }
   ],
   "source": [
    "(data_clean.통행시간 > 0).unique()"
   ]
  },
  {
   "cell_type": "code",
   "execution_count": 9,
   "metadata": {},
   "outputs": [
    {
     "name": "stdout",
     "output_type": "stream",
     "text": [
      "<class 'pandas.core.frame.DataFrame'>\n",
      "Int64Index: 20817148 entries, 7684 to 24767717\n",
      "Data columns (total 6 columns):\n",
      " #   Column     Dtype\n",
      "---  ------     -----\n",
      " 0   집계일자       int64\n",
      " 1   집계시        int64\n",
      " 2   출발영업소코드    int64\n",
      " 3   도착영업소코드    int64\n",
      " 4   TCS차종구분코드  int64\n",
      " 5   통행시간       int64\n",
      "dtypes: int64(6)\n",
      "memory usage: 1.1 GB\n"
     ]
    }
   ],
   "source": [
    "data_clean = data_clean[data_clean.통행시간 > 0]\n",
    "data_clean.info()"
   ]
  },
  {
   "cell_type": "markdown",
   "metadata": {},
   "source": [
    "차종구분코드는 사용하지 않는다."
   ]
  },
  {
   "cell_type": "code",
   "execution_count": 10,
   "metadata": {},
   "outputs": [
    {
     "data": {
      "text/html": [
       "<div>\n",
       "<style scoped>\n",
       "    .dataframe tbody tr th:only-of-type {\n",
       "        vertical-align: middle;\n",
       "    }\n",
       "\n",
       "    .dataframe tbody tr th {\n",
       "        vertical-align: top;\n",
       "    }\n",
       "\n",
       "    .dataframe thead th {\n",
       "        text-align: right;\n",
       "    }\n",
       "</style>\n",
       "<table border=\"1\" class=\"dataframe\">\n",
       "  <thead>\n",
       "    <tr style=\"text-align: right;\">\n",
       "      <th></th>\n",
       "      <th>집계일자</th>\n",
       "      <th>집계시</th>\n",
       "      <th>출발영업소코드</th>\n",
       "      <th>도착영업소코드</th>\n",
       "      <th>통행시간</th>\n",
       "    </tr>\n",
       "  </thead>\n",
       "  <tbody>\n",
       "    <tr>\n",
       "      <th>7684</th>\n",
       "      <td>20210101</td>\n",
       "      <td>21</td>\n",
       "      <td>101</td>\n",
       "      <td>102</td>\n",
       "      <td>617</td>\n",
       "    </tr>\n",
       "    <tr>\n",
       "      <th>7686</th>\n",
       "      <td>20210101</td>\n",
       "      <td>21</td>\n",
       "      <td>101</td>\n",
       "      <td>102</td>\n",
       "      <td>601</td>\n",
       "    </tr>\n",
       "    <tr>\n",
       "      <th>7687</th>\n",
       "      <td>20210101</td>\n",
       "      <td>21</td>\n",
       "      <td>101</td>\n",
       "      <td>102</td>\n",
       "      <td>644</td>\n",
       "    </tr>\n",
       "    <tr>\n",
       "      <th>7688</th>\n",
       "      <td>20210101</td>\n",
       "      <td>21</td>\n",
       "      <td>101</td>\n",
       "      <td>102</td>\n",
       "      <td>600</td>\n",
       "    </tr>\n",
       "    <tr>\n",
       "      <th>7689</th>\n",
       "      <td>20210101</td>\n",
       "      <td>17</td>\n",
       "      <td>101</td>\n",
       "      <td>102</td>\n",
       "      <td>612</td>\n",
       "    </tr>\n",
       "  </tbody>\n",
       "</table>\n",
       "</div>"
      ],
      "text/plain": [
       "          집계일자  집계시  출발영업소코드  도착영업소코드  통행시간\n",
       "7684  20210101   21      101      102   617\n",
       "7686  20210101   21      101      102   601\n",
       "7687  20210101   21      101      102   644\n",
       "7688  20210101   21      101      102   600\n",
       "7689  20210101   17      101      102   612"
      ]
     },
     "execution_count": 10,
     "metadata": {},
     "output_type": "execute_result"
    }
   ],
   "source": [
    "df_data = pd.DataFrame(data_clean, columns=['집계일자', '집계시', '출발영업소코드', '도착영업소코드', '통행시간'])\n",
    "df_data.head()"
   ]
  },
  {
   "cell_type": "markdown",
   "metadata": {},
   "source": [
    "영업소 101에서 140으로 이동한 데이터를 분류해보자."
   ]
  },
  {
   "cell_type": "code",
   "execution_count": 15,
   "metadata": {},
   "outputs": [
    {
     "name": "stdout",
     "output_type": "stream",
     "text": [
      "<class 'pandas.core.frame.DataFrame'>\n",
      "Int64Index: 708 entries, 9157 to 24700511\n",
      "Data columns (total 5 columns):\n",
      " #   Column   Non-Null Count  Dtype\n",
      "---  ------   --------------  -----\n",
      " 0   집계일자     708 non-null    int64\n",
      " 1   집계시      708 non-null    int64\n",
      " 2   출발영업소코드  708 non-null    int64\n",
      " 3   도착영업소코드  708 non-null    int64\n",
      " 4   통행시간     708 non-null    int64\n",
      "dtypes: int64(5)\n",
      "memory usage: 33.2 KB\n"
     ]
    }
   ],
   "source": [
    "from_101 = df_data[df_data.출발영업소코드 == 101]\n",
    "from_101_to_140 = from_101[from_101.도착영업소코드 == 140]\n",
    "from_101_to_140.info()"
   ]
  },
  {
   "cell_type": "markdown",
   "metadata": {},
   "source": [
    "요일 데이터를 추가하자(0: 월, 1: 화, ..., 6: 일)."
   ]
  },
  {
   "cell_type": "code",
   "execution_count": 17,
   "metadata": {},
   "outputs": [
    {
     "name": "stderr",
     "output_type": "stream",
     "text": [
      "C:\\Users\\Public\\Documents\\ESTsoft\\CreatorTemp\\ipykernel_24096\\3158426315.py:1: SettingWithCopyWarning: \n",
      "A value is trying to be set on a copy of a slice from a DataFrame.\n",
      "Try using .loc[row_indexer,col_indexer] = value instead\n",
      "\n",
      "See the caveats in the documentation: https://pandas.pydata.org/pandas-docs/stable/user_guide/indexing.html#returning-a-view-versus-a-copy\n",
      "  from_101_to_140['요일'] = pd.to_datetime(from_101_to_140['집계일자'], format='%Y%m%d').dt.dayofweek\n"
     ]
    },
    {
     "data": {
      "text/html": [
       "<div>\n",
       "<style scoped>\n",
       "    .dataframe tbody tr th:only-of-type {\n",
       "        vertical-align: middle;\n",
       "    }\n",
       "\n",
       "    .dataframe tbody tr th {\n",
       "        vertical-align: top;\n",
       "    }\n",
       "\n",
       "    .dataframe thead th {\n",
       "        text-align: right;\n",
       "    }\n",
       "</style>\n",
       "<table border=\"1\" class=\"dataframe\">\n",
       "  <thead>\n",
       "    <tr style=\"text-align: right;\">\n",
       "      <th></th>\n",
       "      <th>집계일자</th>\n",
       "      <th>집계시</th>\n",
       "      <th>출발영업소코드</th>\n",
       "      <th>도착영업소코드</th>\n",
       "      <th>통행시간</th>\n",
       "      <th>요일</th>\n",
       "    </tr>\n",
       "  </thead>\n",
       "  <tbody>\n",
       "    <tr>\n",
       "      <th>9157</th>\n",
       "      <td>20210101</td>\n",
       "      <td>19</td>\n",
       "      <td>101</td>\n",
       "      <td>140</td>\n",
       "      <td>15924</td>\n",
       "      <td>4</td>\n",
       "    </tr>\n",
       "    <tr>\n",
       "      <th>9158</th>\n",
       "      <td>20210101</td>\n",
       "      <td>7</td>\n",
       "      <td>101</td>\n",
       "      <td>140</td>\n",
       "      <td>14237</td>\n",
       "      <td>4</td>\n",
       "    </tr>\n",
       "    <tr>\n",
       "      <th>9159</th>\n",
       "      <td>20210101</td>\n",
       "      <td>0</td>\n",
       "      <td>101</td>\n",
       "      <td>140</td>\n",
       "      <td>13556</td>\n",
       "      <td>4</td>\n",
       "    </tr>\n",
       "    <tr>\n",
       "      <th>9160</th>\n",
       "      <td>20210101</td>\n",
       "      <td>19</td>\n",
       "      <td>101</td>\n",
       "      <td>140</td>\n",
       "      <td>19430</td>\n",
       "      <td>4</td>\n",
       "    </tr>\n",
       "    <tr>\n",
       "      <th>9161</th>\n",
       "      <td>20210101</td>\n",
       "      <td>17</td>\n",
       "      <td>101</td>\n",
       "      <td>140</td>\n",
       "      <td>16025</td>\n",
       "      <td>4</td>\n",
       "    </tr>\n",
       "  </tbody>\n",
       "</table>\n",
       "</div>"
      ],
      "text/plain": [
       "          집계일자  집계시  출발영업소코드  도착영업소코드   통행시간  요일\n",
       "9157  20210101   19      101      140  15924   4\n",
       "9158  20210101    7      101      140  14237   4\n",
       "9159  20210101    0      101      140  13556   4\n",
       "9160  20210101   19      101      140  19430   4\n",
       "9161  20210101   17      101      140  16025   4"
      ]
     },
     "execution_count": 17,
     "metadata": {},
     "output_type": "execute_result"
    }
   ],
   "source": [
    "from_101_to_140['요일'] = pd.to_datetime(from_101_to_140['집계일자'], format='%Y%m%d').dt.dayofweek\n",
    "from_101_to_140.head()"
   ]
  },
  {
   "cell_type": "markdown",
   "metadata": {},
   "source": [
    "정렬한다."
   ]
  },
  {
   "cell_type": "code",
   "execution_count": 19,
   "metadata": {},
   "outputs": [
    {
     "data": {
      "text/html": [
       "<div>\n",
       "<style scoped>\n",
       "    .dataframe tbody tr th:only-of-type {\n",
       "        vertical-align: middle;\n",
       "    }\n",
       "\n",
       "    .dataframe tbody tr th {\n",
       "        vertical-align: top;\n",
       "    }\n",
       "\n",
       "    .dataframe thead th {\n",
       "        text-align: right;\n",
       "    }\n",
       "</style>\n",
       "<table border=\"1\" class=\"dataframe\">\n",
       "  <thead>\n",
       "    <tr style=\"text-align: right;\">\n",
       "      <th></th>\n",
       "      <th>집계일자</th>\n",
       "      <th>집계시</th>\n",
       "      <th>출발영업소코드</th>\n",
       "      <th>도착영업소코드</th>\n",
       "      <th>통행시간</th>\n",
       "      <th>요일</th>\n",
       "    </tr>\n",
       "  </thead>\n",
       "  <tbody>\n",
       "    <tr>\n",
       "      <th>9159</th>\n",
       "      <td>20210101</td>\n",
       "      <td>0</td>\n",
       "      <td>101</td>\n",
       "      <td>140</td>\n",
       "      <td>13556</td>\n",
       "      <td>4</td>\n",
       "    </tr>\n",
       "    <tr>\n",
       "      <th>7542678</th>\n",
       "      <td>20210101</td>\n",
       "      <td>1</td>\n",
       "      <td>101</td>\n",
       "      <td>140</td>\n",
       "      <td>13595</td>\n",
       "      <td>4</td>\n",
       "    </tr>\n",
       "    <tr>\n",
       "      <th>1151591</th>\n",
       "      <td>20210101</td>\n",
       "      <td>2</td>\n",
       "      <td>101</td>\n",
       "      <td>140</td>\n",
       "      <td>13633</td>\n",
       "      <td>4</td>\n",
       "    </tr>\n",
       "    <tr>\n",
       "      <th>844398</th>\n",
       "      <td>20210101</td>\n",
       "      <td>3</td>\n",
       "      <td>101</td>\n",
       "      <td>140</td>\n",
       "      <td>13725</td>\n",
       "      <td>4</td>\n",
       "    </tr>\n",
       "    <tr>\n",
       "      <th>6964783</th>\n",
       "      <td>20210101</td>\n",
       "      <td>4</td>\n",
       "      <td>101</td>\n",
       "      <td>140</td>\n",
       "      <td>13796</td>\n",
       "      <td>4</td>\n",
       "    </tr>\n",
       "    <tr>\n",
       "      <th>...</th>\n",
       "      <td>...</td>\n",
       "      <td>...</td>\n",
       "      <td>...</td>\n",
       "      <td>...</td>\n",
       "      <td>...</td>\n",
       "      <td>...</td>\n",
       "    </tr>\n",
       "    <tr>\n",
       "      <th>23429292</th>\n",
       "      <td>20210131</td>\n",
       "      <td>19</td>\n",
       "      <td>101</td>\n",
       "      <td>140</td>\n",
       "      <td>15090</td>\n",
       "      <td>6</td>\n",
       "    </tr>\n",
       "    <tr>\n",
       "      <th>23429295</th>\n",
       "      <td>20210131</td>\n",
       "      <td>20</td>\n",
       "      <td>101</td>\n",
       "      <td>140</td>\n",
       "      <td>14940</td>\n",
       "      <td>6</td>\n",
       "    </tr>\n",
       "    <tr>\n",
       "      <th>23429289</th>\n",
       "      <td>20210131</td>\n",
       "      <td>21</td>\n",
       "      <td>101</td>\n",
       "      <td>140</td>\n",
       "      <td>15097</td>\n",
       "      <td>6</td>\n",
       "    </tr>\n",
       "    <tr>\n",
       "      <th>23429304</th>\n",
       "      <td>20210131</td>\n",
       "      <td>22</td>\n",
       "      <td>101</td>\n",
       "      <td>140</td>\n",
       "      <td>15547</td>\n",
       "      <td>6</td>\n",
       "    </tr>\n",
       "    <tr>\n",
       "      <th>23429307</th>\n",
       "      <td>20210131</td>\n",
       "      <td>23</td>\n",
       "      <td>101</td>\n",
       "      <td>140</td>\n",
       "      <td>14764</td>\n",
       "      <td>6</td>\n",
       "    </tr>\n",
       "  </tbody>\n",
       "</table>\n",
       "<p>708 rows × 6 columns</p>\n",
       "</div>"
      ],
      "text/plain": [
       "              집계일자  집계시  출발영업소코드  도착영업소코드   통행시간  요일\n",
       "9159      20210101    0      101      140  13556   4\n",
       "7542678   20210101    1      101      140  13595   4\n",
       "1151591   20210101    2      101      140  13633   4\n",
       "844398    20210101    3      101      140  13725   4\n",
       "6964783   20210101    4      101      140  13796   4\n",
       "...            ...  ...      ...      ...    ...  ..\n",
       "23429292  20210131   19      101      140  15090   6\n",
       "23429295  20210131   20      101      140  14940   6\n",
       "23429289  20210131   21      101      140  15097   6\n",
       "23429304  20210131   22      101      140  15547   6\n",
       "23429307  20210131   23      101      140  14764   6\n",
       "\n",
       "[708 rows x 6 columns]"
      ]
     },
     "execution_count": 19,
     "metadata": {},
     "output_type": "execute_result"
    }
   ],
   "source": [
    "from_101_to_140.sort_values(by=['집계일자', '집계시'])"
   ]
  },
  {
   "cell_type": "code",
   "execution_count": 23,
   "metadata": {},
   "outputs": [
    {
     "data": {
      "text/plain": [
       "도착영업소코드\n",
       "102    3420\n",
       "103    4448\n",
       "104     459\n",
       "105    4242\n",
       "106    4386\n",
       "       ... \n",
       "762     679\n",
       "840     193\n",
       "850       2\n",
       "851    1766\n",
       "876    1973\n",
       "Name: 통행시간, Length: 317, dtype: int64"
      ]
     },
     "execution_count": 23,
     "metadata": {},
     "output_type": "execute_result"
    }
   ],
   "source": [
    "groupby_destination = from_101['통행시간'].groupby(from_101['도착영업소코드'])\n",
    "groupby_destination.size()"
   ]
  },
  {
   "cell_type": "code",
   "execution_count": 24,
   "metadata": {},
   "outputs": [
    {
     "data": {
      "text/plain": [
       "도착영업소코드\n",
       "102      710.810234\n",
       "103      635.478417\n",
       "104    10682.501089\n",
       "105      912.917020\n",
       "106     1276.969904\n",
       "           ...     \n",
       "762     3945.537555\n",
       "840     4483.849741\n",
       "850     5863.000000\n",
       "851     4164.588901\n",
       "876     2201.002027\n",
       "Name: 통행시간, Length: 317, dtype: float64"
      ]
     },
     "execution_count": 24,
     "metadata": {},
     "output_type": "execute_result"
    }
   ],
   "source": [
    "groupby_destination.mean()"
   ]
  },
  {
   "cell_type": "markdown",
   "metadata": {},
   "source": [
    "## 정리\n",
    "결과를 저장한다."
   ]
  },
  {
   "cell_type": "code",
   "execution_count": 25,
   "metadata": {},
   "outputs": [],
   "source": [
    "output = './data/korea expressway corporation/save.csv'\n",
    "from_101_to_140.to_csv(output, index=None, header=True)"
   ]
  },
  {
   "cell_type": "markdown",
   "metadata": {},
   "source": [
    "결과를 다시 불러오자. 예제 처음에 사용한 구문이다."
   ]
  },
  {
   "cell_type": "code",
   "execution_count": 28,
   "metadata": {},
   "outputs": [
    {
     "data": {
      "text/html": [
       "<div>\n",
       "<style scoped>\n",
       "    .dataframe tbody tr th:only-of-type {\n",
       "        vertical-align: middle;\n",
       "    }\n",
       "\n",
       "    .dataframe tbody tr th {\n",
       "        vertical-align: top;\n",
       "    }\n",
       "\n",
       "    .dataframe thead th {\n",
       "        text-align: right;\n",
       "    }\n",
       "</style>\n",
       "<table border=\"1\" class=\"dataframe\">\n",
       "  <thead>\n",
       "    <tr style=\"text-align: right;\">\n",
       "      <th></th>\n",
       "      <th>집계일자</th>\n",
       "      <th>집계시</th>\n",
       "      <th>출발영업소코드</th>\n",
       "      <th>도착영업소코드</th>\n",
       "      <th>통행시간</th>\n",
       "      <th>요일</th>\n",
       "    </tr>\n",
       "  </thead>\n",
       "  <tbody>\n",
       "    <tr>\n",
       "      <th>0</th>\n",
       "      <td>20210101</td>\n",
       "      <td>19</td>\n",
       "      <td>101</td>\n",
       "      <td>140</td>\n",
       "      <td>15924</td>\n",
       "      <td>4</td>\n",
       "    </tr>\n",
       "    <tr>\n",
       "      <th>1</th>\n",
       "      <td>20210101</td>\n",
       "      <td>7</td>\n",
       "      <td>101</td>\n",
       "      <td>140</td>\n",
       "      <td>14237</td>\n",
       "      <td>4</td>\n",
       "    </tr>\n",
       "    <tr>\n",
       "      <th>2</th>\n",
       "      <td>20210101</td>\n",
       "      <td>0</td>\n",
       "      <td>101</td>\n",
       "      <td>140</td>\n",
       "      <td>13556</td>\n",
       "      <td>4</td>\n",
       "    </tr>\n",
       "    <tr>\n",
       "      <th>3</th>\n",
       "      <td>20210101</td>\n",
       "      <td>19</td>\n",
       "      <td>101</td>\n",
       "      <td>140</td>\n",
       "      <td>19430</td>\n",
       "      <td>4</td>\n",
       "    </tr>\n",
       "    <tr>\n",
       "      <th>4</th>\n",
       "      <td>20210101</td>\n",
       "      <td>17</td>\n",
       "      <td>101</td>\n",
       "      <td>140</td>\n",
       "      <td>16025</td>\n",
       "      <td>4</td>\n",
       "    </tr>\n",
       "  </tbody>\n",
       "</table>\n",
       "</div>"
      ],
      "text/plain": [
       "       집계일자  집계시  출발영업소코드  도착영업소코드   통행시간  요일\n",
       "0  20210101   19      101      140  15924   4\n",
       "1  20210101    7      101      140  14237   4\n",
       "2  20210101    0      101      140  13556   4\n",
       "3  20210101   19      101      140  19430   4\n",
       "4  20210101   17      101      140  16025   4"
      ]
     },
     "execution_count": 28,
     "metadata": {},
     "output_type": "execute_result"
    }
   ],
   "source": [
    "data = pd.read_csv(output)\n",
    "data.head()"
   ]
  },
  {
   "cell_type": "markdown",
   "metadata": {},
   "source": [
    "이런 데이터가 많다고 가정하고, 병합해보자."
   ]
  },
  {
   "cell_type": "code",
   "execution_count": 29,
   "metadata": {},
   "outputs": [
    {
     "data": {
      "text/html": [
       "<div>\n",
       "<style scoped>\n",
       "    .dataframe tbody tr th:only-of-type {\n",
       "        vertical-align: middle;\n",
       "    }\n",
       "\n",
       "    .dataframe tbody tr th {\n",
       "        vertical-align: top;\n",
       "    }\n",
       "\n",
       "    .dataframe thead th {\n",
       "        text-align: right;\n",
       "    }\n",
       "</style>\n",
       "<table border=\"1\" class=\"dataframe\">\n",
       "  <thead>\n",
       "    <tr style=\"text-align: right;\">\n",
       "      <th></th>\n",
       "      <th>집계일자</th>\n",
       "      <th>집계시</th>\n",
       "      <th>출발영업소코드</th>\n",
       "      <th>도착영업소코드</th>\n",
       "      <th>통행시간</th>\n",
       "      <th>요일</th>\n",
       "    </tr>\n",
       "  </thead>\n",
       "  <tbody>\n",
       "    <tr>\n",
       "      <th>0</th>\n",
       "      <td>20210101</td>\n",
       "      <td>19</td>\n",
       "      <td>101</td>\n",
       "      <td>140</td>\n",
       "      <td>15924</td>\n",
       "      <td>4</td>\n",
       "    </tr>\n",
       "    <tr>\n",
       "      <th>1</th>\n",
       "      <td>20210101</td>\n",
       "      <td>7</td>\n",
       "      <td>101</td>\n",
       "      <td>140</td>\n",
       "      <td>14237</td>\n",
       "      <td>4</td>\n",
       "    </tr>\n",
       "    <tr>\n",
       "      <th>2</th>\n",
       "      <td>20210101</td>\n",
       "      <td>0</td>\n",
       "      <td>101</td>\n",
       "      <td>140</td>\n",
       "      <td>13556</td>\n",
       "      <td>4</td>\n",
       "    </tr>\n",
       "    <tr>\n",
       "      <th>3</th>\n",
       "      <td>20210101</td>\n",
       "      <td>19</td>\n",
       "      <td>101</td>\n",
       "      <td>140</td>\n",
       "      <td>19430</td>\n",
       "      <td>4</td>\n",
       "    </tr>\n",
       "    <tr>\n",
       "      <th>4</th>\n",
       "      <td>20210101</td>\n",
       "      <td>17</td>\n",
       "      <td>101</td>\n",
       "      <td>140</td>\n",
       "      <td>16025</td>\n",
       "      <td>4</td>\n",
       "    </tr>\n",
       "  </tbody>\n",
       "</table>\n",
       "</div>"
      ],
      "text/plain": [
       "       집계일자  집계시  출발영업소코드  도착영업소코드   통행시간  요일\n",
       "0  20210101   19      101      140  15924   4\n",
       "1  20210101    7      101      140  14237   4\n",
       "2  20210101    0      101      140  13556   4\n",
       "3  20210101   19      101      140  19430   4\n",
       "4  20210101   17      101      140  16025   4"
      ]
     },
     "execution_count": 29,
     "metadata": {},
     "output_type": "execute_result"
    }
   ],
   "source": [
    "data1 = pd.read_csv(output)\n",
    "data2 = pd.read_csv(output)\n",
    "data3 = pd.concat([data1, data2])\n",
    "data3.head()"
   ]
  }
 ],
 "metadata": {
  "kernelspec": {
   "display_name": "Python 3.9.13 64-bit (windows store)",
   "language": "python",
   "name": "python3"
  },
  "language_info": {
   "codemirror_mode": {
    "name": "ipython",
    "version": 3
   },
   "file_extension": ".py",
   "mimetype": "text/x-python",
   "name": "python",
   "nbconvert_exporter": "python",
   "pygments_lexer": "ipython3",
   "version": "3.9.13"
  },
  "orig_nbformat": 4,
  "vscode": {
   "interpreter": {
    "hash": "2436d0ebd73866a8cf32bb238dbd759d134e965d36570a61f1542206d4fc6650"
   }
  }
 },
 "nbformat": 4,
 "nbformat_minor": 2
}
