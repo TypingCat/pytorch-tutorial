{
 "cells": [
  {
   "cell_type": "markdown",
   "metadata": {},
   "source": [
    "# Quickstart\n",
    "일단 실행해보자!\n",
    "\n",
    "\n",
    "## Working with data\n",
    "파이토치는 자체적으로 데이터셋을 제공한다. 이 예제에서는 영상처리 도메인 데이터셋인 TorchVision의 FashionMNIST를 활용한다."
   ]
  }
 ],
 "metadata": {
  "language_info": {
   "name": "python"
  },
  "orig_nbformat": 4
 },
 "nbformat": 4,
 "nbformat_minor": 2
}
